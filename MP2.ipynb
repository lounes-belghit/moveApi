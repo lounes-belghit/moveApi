{
 "cells": [
  {
   "cell_type": "markdown",
   "id": "a787f2ab-8fd8-4cfb-ab15-38ef01eb6107",
   "metadata": {
    "id": "a787f2ab-8fd8-4cfb-ab15-38ef01eb6107"
   },
   "source": [
    "# PROGRES 2024 - Mini-Projet 2\n",
    "# API Web\n",
    "\n",
    "Fabien Mathieu - fabien.mathieu@normalesup.org\n",
    "\n",
    "Sébastien Tixeuil - Sebastien.Tixeuil@lip6.fr"
   ]
  },
  {
   "cell_type": "markdown",
   "id": "dcd6dc16",
   "metadata": {
    "id": "dcd6dc16"
   },
   "source": [
    "The purpose of this mini-project is to work with the *Internet Movie DataBase* (IMDB) and the Python package bottle. It will involve:\n",
    "\n",
    "- Retrieve and manipulate datasets\n",
    "- Build an API to perform various tasks on the data\n",
    "- Build a website that will use the API above"
   ]
  },
  {
   "cell_type": "markdown",
   "id": "51474257",
   "metadata": {},
   "source": [
    "# Rules"
   ]
  },
  {
   "cell_type": "markdown",
   "id": "9a94a271",
   "metadata": {},
   "source": [
    "1. Cite your sources\n",
    "2. One file to rule them all\n",
    "3. Explain\n",
    "4. Execute your code\n",
    "\n",
    "\n",
    "https://github.com/balouf/progres/blob/main/rules.ipynb"
   ]
  },
  {
   "cell_type": "markdown",
   "id": "efa9293e",
   "metadata": {},
   "source": [
    "# The IMDB dataset"
   ]
  },
  {
   "cell_type": "markdown",
   "id": "a24ca9a8",
   "metadata": {},
   "source": [
    "[IMDB](https://www.imdb.com) allows to retrieve a part of its dataset for any non-commercial purpose. The available data and the formatting convention is described here: https://developer.imdb.com/non-commercial-datasets/\n",
    "\n",
    "We are especially interested in the data from the following files:\n",
    "- https://datasets.imdbws.com/title.principals.tsv.gz\n",
    "- https://datasets.imdbws.com/name.basics.tsv.gz\n",
    "- https://datasets.imdbws.com/title.basics.tsv.gz\n",
    "\n",
    "**Important notes**:\n",
    "- If you see *Your answer here*, that means something is expected from you.\n",
    "- To help you, the start and/or the end of a possible solution is sometimes given.\n",
    "- The content of IMDB is refreshed regularly. That means that some of the results you will compute, like the number of movies, will vary with time. This should not surprise you."
   ]
  },
  {
   "cell_type": "markdown",
   "id": "ff9d4109",
   "metadata": {},
   "source": [
    "## Exercise 1: Download"
   ]
  },
  {
   "cell_type": "markdown",
   "id": "6fb20ea6",
   "metadata": {},
   "source": [
    "Write a `download_imdb` function inspired by the `download` function seen in course, with the following modifications:\n",
    "- `download_imdb` will have one single argument, the name of the file to retrieve. Location is assumed to be https://datasets.imdbws.com/\n",
    "- If the file already exists, print a message telling that it exists and do nothing. You can use the `pathlib` module for that."
   ]
  },
  {
   "cell_type": "markdown",
   "id": "628c6300",
   "metadata": {},
   "source": [
    "Your answer here."
   ]
  },
  {
   "cell_type": "code",
   "execution_count": 5,
   "id": "1198a03f",
   "metadata": {
    "ExecuteTime": {
     "end_time": "2024-10-17T19:38:38.300155Z",
     "start_time": "2024-10-17T19:38:37.718511Z"
    },
    "id": "ed159520"
   },
   "outputs": [],
   "source": [
    "from pathlib import Path\n",
    "from requests import Session\n",
    "\n",
    "base_url = \"https://datasets.imdbws.com/\"\n",
    "\n",
    "def download_imdb(file):\n",
    "    file_path = Path(file)\n",
    "    if file_path.exists():\n",
    "        print(f\"{file} already exists.\")\n",
    "        return\n",
    "    \n",
    "    url = base_url + file\n",
    "    with Session() as session:\n",
    "        response = session.get(url)\n",
    "        response.raise_for_status()\n",
    "        with open(file, 'wb') as f:\n",
    "            f.write(response.content)\n",
    "    print(f\"{file} has been downloaded.\")"
   ]
  },
  {
   "cell_type": "code",
   "execution_count": 6,
   "id": "ce042418",
   "metadata": {
    "ExecuteTime": {
     "end_time": "2024-10-17T19:38:38.334234Z",
     "start_time": "2024-10-17T19:38:38.312955Z"
    },
    "colab": {
     "base_uri": "https://localhost:8080/"
    },
    "id": "ce042418",
    "outputId": "5c7dd0be-825a-4895-c96f-6c99cd733f4b"
   },
   "outputs": [
    {
     "name": "stdout",
     "output_type": "stream",
     "text": [
      "title.principals.tsv.gz already exists.\n",
      "name.basics.tsv.gz already exists.\n",
      "title.basics.tsv.gz already exists.\n"
     ]
    }
   ],
   "source": [
    "files = ['title.principals.tsv.gz', 'name.basics.tsv.gz', 'title.basics.tsv.gz']\n",
    "for file in files:\n",
    "    download_imdb(file)"
   ]
  },
  {
   "cell_type": "markdown",
   "id": "216c4b71",
   "metadata": {},
   "source": [
    "## Exercise 2: Explore"
   ]
  },
  {
   "cell_type": "markdown",
   "id": "0cf0a274",
   "metadata": {},
   "source": [
    "- What is the size of the different files you retrieved? You can use Python or a file explorer, as you prefer."
   ]
  },
  {
   "cell_type": "markdown",
   "id": "93fec8b9",
   "metadata": {},
   "source": [
    "Your answer here."
   ]
  },
  {
   "cell_type": "markdown",
   "id": "7cb096d5",
   "metadata": {},
   "source": [
    "As explained in https://developer.imdb.com/non-commercial-datasets/:\n",
    "- the data is stored as `tsv`, which means each text line represents a row.\n",
    "- A [gzip compression](https://docs.python.org/3/library/gzip.html) is used to reduce the size of the data on the hard drive.\n",
    "\n",
    "Large compressed files should not be uncompressed on your hard drive or fully loaded in memory.\n",
    "\n",
    "The Python [gzip module](https://docs.python.org/3/library/gzip.html) is designed so you can open a compressed file as if it was already uncompressed. For example, the following code reads 666 lines from `title.basics` and print the last line read."
   ]
  },
  {
   "cell_type": "code",
   "execution_count": 8,
   "id": "4da56b1f",
   "metadata": {
    "ExecuteTime": {
     "end_time": "2024-10-17T19:38:38.348990Z",
     "start_time": "2024-10-17T19:38:38.339737Z"
    }
   },
   "outputs": [
    {
     "name": "stdout",
     "output_type": "stream",
     "text": [
      "tt0000671\tshort\tDesdemona\tDesdemona\t0\t1908\t\\N\t\\N\tDrama,Short\n",
      "\n"
     ]
    }
   ],
   "source": [
    "import gzip\n",
    "with gzip.open('title.basics.tsv.gz', 'rt', encoding='utf8') as f:\n",
    "    for _ in range(666):\n",
    "        l = f.readline()\n",
    "print(l)"
   ]
  },
  {
   "cell_type": "markdown",
   "id": "bcf2ffad",
   "metadata": {},
   "source": [
    "- Write a function that read the 4 first lines of a compressed tsv file. Each line read should be converted into a list of elements and printed."
   ]
  },
  {
   "cell_type": "markdown",
   "id": "a011838d",
   "metadata": {},
   "source": [
    "Your answer here."
   ]
  },
  {
   "cell_type": "code",
   "execution_count": 9,
   "id": "7362cb0e",
   "metadata": {
    "ExecuteTime": {
     "end_time": "2024-10-17T19:38:38.358560Z",
     "start_time": "2024-10-17T19:38:38.351001Z"
    },
    "id": "d743066b"
   },
   "outputs": [],
   "source": [
    "def explore(name):\n",
    "    with gzip.open(name, 'rt', encoding='utf8') as f:\n",
    "        for _ in range(4):\n",
    "            line = f.readline().strip()\n",
    "            elements = line.split('\\t')\n",
    "            print(elements)"
   ]
  },
  {
   "cell_type": "code",
   "execution_count": 10,
   "id": "cf9a6d3e",
   "metadata": {
    "ExecuteTime": {
     "end_time": "2024-10-17T19:38:38.400704Z",
     "start_time": "2024-10-17T19:38:38.376163Z"
    }
   },
   "outputs": [
    {
     "name": "stdout",
     "output_type": "stream",
     "text": [
      "First lines of title.principals.tsv.gz:\n",
      "['tconst', 'ordering', 'nconst', 'category', 'job', 'characters']\n",
      "['tt0000001', '1', 'nm1588970', 'self', '\\\\N', '[\"Self\"]']\n",
      "['tt0000001', '2', 'nm0005690', 'director', '\\\\N', '\\\\N']\n",
      "['tt0000001', '3', 'nm0005690', 'producer', 'producer', '\\\\N']\n",
      "First lines of name.basics.tsv.gz:\n",
      "['nconst', 'primaryName', 'birthYear', 'deathYear', 'primaryProfession', 'knownForTitles']\n",
      "['nm0000001', 'Fred Astaire', '1899', '1987', 'actor,miscellaneous,producer', 'tt0072308,tt0050419,tt0053137,tt0027125']\n",
      "['nm0000002', 'Lauren Bacall', '1924', '2014', 'actress,soundtrack,archive_footage', 'tt0037382,tt0075213,tt0117057,tt0038355']\n",
      "['nm0000003', 'Brigitte Bardot', '1934', '\\\\N', 'actress,music_department,producer', 'tt0057345,tt0049189,tt0056404,tt0054452']\n",
      "First lines of title.basics.tsv.gz:\n",
      "['tconst', 'titleType', 'primaryTitle', 'originalTitle', 'isAdult', 'startYear', 'endYear', 'runtimeMinutes', 'genres']\n",
      "['tt0000001', 'short', 'Carmencita', 'Carmencita', '0', '1894', '\\\\N', '1', 'Documentary,Short']\n",
      "['tt0000002', 'short', 'Le clown et ses chiens', 'Le clown et ses chiens', '0', '1892', '\\\\N', '5', 'Animation,Short']\n",
      "['tt0000003', 'short', 'Poor Pierrot', 'Pauvre Pierrot', '0', '1892', '\\\\N', '5', 'Animation,Comedy,Romance']\n"
     ]
    }
   ],
   "source": [
    "for file in files:\n",
    "    print(f\"First lines of {file}:\")\n",
    "    explore(file)"
   ]
  },
  {
   "cell_type": "markdown",
   "id": "f838cd31",
   "metadata": {},
   "source": [
    "- How many movie entries are present in the retrieved database?\n",
    "- How many people entries?"
   ]
  },
  {
   "cell_type": "markdown",
   "id": "057c1a01",
   "metadata": {},
   "source": [
    "Your answer here."
   ]
  },
  {
   "cell_type": "markdown",
   "id": "95a1834e",
   "metadata": {},
   "source": [
    "## Exercise 3: Extract"
   ]
  },
  {
   "cell_type": "markdown",
   "id": "c0baa525",
   "metadata": {},
   "source": [
    "We want to study the relations between actors and movies. In particular, we focus on:\n",
    "- Actual movies (e.g. not TV shows or short movies), where the movie year is known and at least one actor/actress is credited.\n",
    "- Actors that are credited in at least one actual movie."
   ]
  },
  {
   "cell_type": "markdown",
   "id": "04e4f501",
   "metadata": {},
   "source": [
    "To start with, build a [Python set](https://docs.python.org/3/tutorial/datastructures.html#sets) that contains all movie ids (`tconst`) such that:\n",
    "- The type of movie (`titleType`) is `movie`;\n",
    "- The year (`startYear`) exists, i.e. is an integer.\n",
    "\n",
    "How many movies have you referenced in the set?"
   ]
  },
  {
   "cell_type": "markdown",
   "id": "088f7448",
   "metadata": {},
   "source": [
    "Your answer here."
   ]
  },
  {
   "cell_type": "code",
   "execution_count": 13,
   "id": "bc3b14be",
   "metadata": {
    "ExecuteTime": {
     "end_time": "2024-10-17T19:38:38.409679Z",
     "start_time": "2024-10-17T19:38:38.406709Z"
    }
   },
   "outputs": [],
   "source": [
    "true_movies = set()\n",
    "def build_true_movies(file):\n",
    "    true_movies = set()\n",
    "    with gzip.open(file, 'rt', encoding='utf8') as f:\n",
    "        next(f)  # Skip the header line\n",
    "        for line in f:\n",
    "            elements = line.strip().split('\\t')\n",
    "            tconst = elements[0]\n",
    "            titleType = elements[1]\n",
    "            startYear = elements[5]\n",
    "            if titleType == 'movie' and startYear.isdigit():\n",
    "                true_movies.add(tconst)\n",
    "    return true_movies\n",
    "true_movies = build_true_movies('title.basics.tsv.gz')"
   ]
  },
  {
   "cell_type": "code",
   "execution_count": 14,
   "id": "c04fc45e",
   "metadata": {
    "ExecuteTime": {
     "end_time": "2024-10-17T19:38:56.966996Z",
     "start_time": "2024-10-17T19:38:56.955330Z"
    },
    "colab": {
     "base_uri": "https://localhost:8080/"
    },
    "id": "c04fc45e",
    "outputId": "0afd8c75-eb3b-4071-b26e-6db6e909a696"
   },
   "outputs": [
    {
     "data": {
      "text/plain": [
       "595086"
      ]
     },
     "execution_count": 14,
     "metadata": {},
     "output_type": "execute_result"
    }
   ],
   "source": [
    "len(true_movies)"
   ]
  },
  {
   "cell_type": "markdown",
   "id": "0214f16f",
   "metadata": {},
   "source": [
    "Now we want to build two lists, `movies` and `actors`:\n",
    "\n",
    "- Each element of `movies` should represent a movie, each element of `actors` an actor or actress;\n",
    "- A movie is represented by a list of three elements:\n",
    "  - The original name of the movie (`str`),\n",
    "  - The principal actors of the movie, stored as a list whose elements are integers that represent the index (position) of the actors in the list `actors`,\n",
    "  - The movie year, `startYear` (`int`);\n",
    "- An actor/actress is represented by a list of two elements:\n",
    "  - The name of the person (`str`),\n",
    "  - The movies the person acted in, stored as a list whose elements are integers that represent the index (position) of the movies in the list `movies`.\n",
    "  "
   ]
  },
  {
   "cell_type": "markdown",
   "id": "76909c4d",
   "metadata": {},
   "source": [
    "Build these two lists.\n",
    "\n",
    "A possible way to do this:\n",
    "- Initiate `movies` and `actors` as empty lists;\n",
    "- Create two auxiliary dictionary that will associate to each movie id (`tconst`) and person id (`nconst`) their position in the list;\n",
    "- Read the file `title.principals.tsv.gz` line by line:\n",
    "  - Ignore any line where the movie is not in the set `true_movies` or the `category` of the relation is not `actor` or `actress`,\n",
    "  - If the movie id `tconst` is not in the movie auxiliary index, append an empty movie to `movies` (`[\"\", [], 0]`) and update the movie auxiliary index with an entry for `tconst`,\n",
    "  - If the actor id `nconst` is not in the actor auxiliary index, append an empty actor to `actors` (`[\"\", []]`) and update the actor auxiliary index with an entry for `nconst`,\n",
    "  - Append the movie index (not `tconst`!) to the movies of the corresponding actor in `actors`,\n",
    "  - Append the actor index (not `nconst`!) to the actors of the corresponding movie in `movies`;\n",
    "- There can be a few undesired duplicates, e.g. some actors can have multiple entries for the same movies. For each actor, remove possible duplicates in the list of movies, and for each movie, remove possible duplicates in the list of actors;\n",
    "- Using `title.basics.tsv.gz` and your movie auxiliary index, populate each movie in `movies` with its correct name (`str`) and year (`int`);\n",
    "- Using `name.basics.tsv.gz` and your actor auxiliary index, populate each actor in `movies` with her correct name."
   ]
  },
  {
   "cell_type": "markdown",
   "id": "5a3de220",
   "metadata": {},
   "source": [
    "Your answer here."
   ]
  },
  {
   "cell_type": "code",
   "execution_count": 15,
   "id": "82e99bb0",
   "metadata": {
    "ExecuteTime": {
     "end_time": "2024-10-17T19:38:56.983606Z",
     "start_time": "2024-10-17T19:38:56.970004Z"
    }
   },
   "outputs": [],
   "source": [
    "movie_id_to_index = dict()\n",
    "movies = []\n",
    "actor_id_to_index = dict()\n",
    "actors = []\n",
    "# Read the title.principals.tsv.gz file\n",
    "with gzip.open('title.principals.tsv.gz', 'rt', encoding='utf8') as f:\n",
    "    next(f)  # Skip the header line\n",
    "    for line in f:\n",
    "        elements = line.strip().split('\\t')\n",
    "        tconst = elements[0]\n",
    "        nconst = elements[2]\n",
    "        category = elements[3]\n",
    "        \n",
    "        if tconst not in true_movies or category not in ['actor', 'actress']:\n",
    "            continue\n",
    "        \n",
    "        if tconst not in movie_id_to_index:\n",
    "            movie_id_to_index[tconst] = len(movies)\n",
    "            movies.append([\"\", [], 0])\n",
    "        \n",
    "        if nconst not in actor_id_to_index:\n",
    "            actor_id_to_index[nconst] = len(actors)\n",
    "            actors.append([\"\", []])\n",
    "        \n",
    "        movie_index = movie_id_to_index[tconst]\n",
    "        actor_index = actor_id_to_index[nconst]\n",
    "        \n",
    "        if movie_index not in actors[actor_index][1]:\n",
    "            actors[actor_index][1].append(movie_index)\n",
    "        \n",
    "        if actor_index not in movies[movie_index][1]:\n",
    "            movies[movie_index][1].append(actor_index)\n",
    "\n",
    "# Remove duplicates in the lists\n",
    "for actor in actors:\n",
    "    actor[1] = list(set(actor[1]))\n",
    "\n",
    "for movie in movies:\n",
    "    movie[1] = list(set(movie[1]))\n",
    "\n",
    "# Populate movies with their names and years\n",
    "with gzip.open('title.basics.tsv.gz', 'rt', encoding='utf8') as f:\n",
    "    next(f)  # Skip the header line\n",
    "    for line in f:\n",
    "        elements = line.strip().split('\\t')\n",
    "        tconst = elements[0]\n",
    "        primaryTitle = elements[2]\n",
    "        startYear = elements[5]\n",
    "        \n",
    "        if tconst in movie_id_to_index:\n",
    "            movie_index = movie_id_to_index[tconst]\n",
    "            movies[movie_index][0] = primaryTitle\n",
    "            movies[movie_index][2] = int(startYear) if startYear.isdigit() else None\n",
    "\n",
    "# Populate actors with their names\n",
    "with gzip.open('name.basics.tsv.gz', 'rt', encoding='utf8') as f:\n",
    "    next(f)  # Skip the header line\n",
    "    for line in f:\n",
    "        elements = line.strip().split('\\t')\n",
    "        nconst = elements[0]\n",
    "        primaryName = elements[1]\n",
    "        \n",
    "        if nconst in actor_id_to_index:\n",
    "            actor_index = actor_id_to_index[nconst]\n",
    "            actors[actor_index][0] = primaryName"
   ]
  },
  {
   "cell_type": "markdown",
   "id": "b7e0e0a1",
   "metadata": {},
   "source": [
    "Manually check that your files are correct. For example, try to get the name and year of the movies Michel Blanc played in, or the actors of the first Harry Potter movie."
   ]
  },
  {
   "cell_type": "markdown",
   "id": "47e2fb0c",
   "metadata": {},
   "source": [
    "Your answer here (if everything went well, you just need to execute the two cells below)."
   ]
  },
  {
   "cell_type": "code",
   "execution_count": 16,
   "id": "8a99a258",
   "metadata": {
    "ExecuteTime": {
     "end_time": "2024-10-17T19:42:06.206220Z",
     "start_time": "2024-10-17T19:42:05.934950Z"
    }
   },
   "outputs": [
    {
     "data": {
      "text/plain": [
       "\"The Best Way to Walk (1976), The Favour, the Watch and the Very Big Fish (1991), Gramps Is in the Resistance (1983), Dream one (1984), The Hundred-Foot Journey (2014), R.A.I.D. Special Unit (2016), Move Along, There is Nothing to See (1983), Uranus (1990), Cause toujours... tu m'intéresses! (1979), Out of Whack (1979), You Are So Beautiful (2005), Prospero's Books (1991), Kiss & Tell (2018), The Horse of Pride (1980), Summer Things (2002), Ma femme s'appelle reviens (1982), Separate Bedrooms (1989), Toxic Affair (1993), The Girl on the Train (2009), The Day I Saw Your Heart (2011), Odd Job (2016), The Witnesses (2007), The New Beaujolais Wine Has Arrived... (1978), A Spot of Bother (2009), Top Dogs (2022), Madame Edouard (2004), Viens chez moi, j'habite chez une copine (1981), You Won't Have Alsace-Lorraine (1977), A Good Doctor (2019), Marche à l'ombre (1984), I Hate Actors (1986), Santa Claus Is a Stinker (1982), Le routard (2025), Ménage (1986), To Catch a Cop (1984), Drôle de samedi (1985), Monsieur Hire (1989), Take a Chance on Me (2023), The Monster (1994), Les Tuche 4 (2021), Demi-soeur (2013), Memories (2014), Merci La Vie (1991), The Other One's Mug (1979), French Fried Vacation (1978), Une nuit à l'Assemblée Nationale (1988), Les petites victoires (2023), The Second Wind (2007), The Minister (2011), Dead Tired (1994), School's Out (2008), French Fried Vacation 3: Friends Forever (2006), The New Adventures of Aladdin (2015), French Fried Vacation 2 (1979), Musée haut, musée bas (2008), Les grands ducs (1996)\""
      ]
     },
     "execution_count": 16,
     "metadata": {},
     "output_type": "execute_result"
    }
   ],
   "source": [
    "', '.join([f\"{movies[i][0]} ({movies[i][2]})\" for i in [a for a in actors if a[0]=='Michel Blanc'][0][1]])"
   ]
  },
  {
   "cell_type": "code",
   "execution_count": 17,
   "id": "6c0142eb",
   "metadata": {
    "ExecuteTime": {
     "end_time": "2024-10-17T19:42:06.412937Z",
     "start_time": "2024-10-17T19:42:06.211288Z"
    }
   },
   "outputs": [
    {
     "data": {
      "text/plain": [
       "'Maggie Smith, Fiona Shaw, Richard Griffiths, Rupert Grint, Emma Watson, Saunders Triplets, Harry Melling, Richard Harris, Daniel Radcliffe, Robbie Coltrane'"
      ]
     },
     "execution_count": 17,
     "metadata": {},
     "output_type": "execute_result"
    }
   ],
   "source": [
    "', '.join([actors[i][0] for i in [m for m in movies if m[0].startswith('Harry Potter')][0][1]])"
   ]
  },
  {
   "cell_type": "markdown",
   "id": "d22f946c",
   "metadata": {},
   "source": [
    "When you have successfully reached this point of the project, you can save the two lists `movies` and `actors` as compressed json files using the code below:"
   ]
  },
  {
   "cell_type": "code",
   "execution_count": 18,
   "id": "4dcd8c6b",
   "metadata": {
    "ExecuteTime": {
     "end_time": "2024-10-17T19:42:53.461002Z",
     "start_time": "2024-10-17T19:42:06.416962Z"
    },
    "id": "27638009"
   },
   "outputs": [],
   "source": [
    "import gzip\n",
    "import json\n",
    "\n",
    "with gzip.open('movies.json.gz', 'wt', encoding='utf8') as f:\n",
    "    json.dump(movies, f)\n",
    "with gzip.open('actors.json.gz', 'wt', encoding='utf8') as f:\n",
    "    json.dump(actors, f)"
   ]
  },
  {
   "cell_type": "markdown",
   "id": "8547beb9",
   "metadata": {},
   "source": [
    "After your files have been saved, you do not need to re-execute all of the above each time your restart your notebook. Instead, you just need to reload `movies` and `actors` using the code below:"
   ]
  },
  {
   "cell_type": "code",
   "execution_count": 19,
   "id": "10f89c03",
   "metadata": {
    "ExecuteTime": {
     "end_time": "2024-10-17T19:43:04.301301Z",
     "start_time": "2024-10-17T19:42:53.463253Z"
    },
    "id": "10f89c03"
   },
   "outputs": [],
   "source": [
    "import gzip\n",
    "import json\n",
    "\n",
    "with gzip.open('movies.json.gz', 'rt', encoding='utf8') as f:\n",
    "    movies = json.load(f)\n",
    "with gzip.open('actors.json.gz', 'rt', encoding='utf8') as f:\n",
    "    actors = json.load(f)    "
   ]
  },
  {
   "cell_type": "markdown",
   "id": "9c68a909",
   "metadata": {},
   "source": [
    "**Important remark:** in what follows, you will have to build functions that use the two lists a lot. You should NOT reload the lists each time you call a function. Instead, ensure that the two lists are loaded in memory and use them directly."
   ]
  },
  {
   "cell_type": "markdown",
   "id": "0a45a5b0",
   "metadata": {},
   "source": [
    "## Exercise 4: Explore again (now on the curated dataset)"
   ]
  },
  {
   "cell_type": "markdown",
   "id": "6bc58de6",
   "metadata": {},
   "source": [
    "- How many actors do you have in the new dataset? How many movies?\n",
    "- In average, in how many movies played an actor?\n",
    "- In average, how many actors play in a movie?\n",
    "- What is the name of the actor that played in the most movies? How many movies did he feature in?\n",
    "- What is the oldest movie in the DB?\n",
    "- Your answer here."
   ]
  },
  {
   "cell_type": "code",
   "execution_count": 20,
   "id": "f408ee69",
   "metadata": {},
   "outputs": [
    {
     "name": "stdout",
     "output_type": "stream",
     "text": [
      "Number of actors: 1195940\n",
      "Number of movies: 469661\n",
      "Average number of movies per actor: 3.03\n",
      "Average number of actors per movie: 7.71\n",
      "Actor with the most movies: Brahmanandam (1122 movies)\n",
      "Oldest movie: Miss Jerry (1894)\n"
     ]
    }
   ],
   "source": [
    "# Number of actors\n",
    "num_actors = len(actors)\n",
    "print(f\"Number of actors: {num_actors}\")\n",
    "\n",
    "# Number of movies\n",
    "num_movies = len(movies)\n",
    "print(f\"Number of movies: {num_movies}\")\n",
    "\n",
    "# Average number of movies per actor\n",
    "avg_movies_per_actor = sum(len(actor[1]) for actor in actors) / num_actors\n",
    "print(f\"Average number of movies per actor: {avg_movies_per_actor:.2f}\")\n",
    "\n",
    "# Average number of actors per movie\n",
    "avg_actors_per_movie = sum(len(movie[1]) for movie in movies) / num_movies\n",
    "print(f\"Average number of actors per movie: {avg_actors_per_movie:.2f}\")\n",
    "\n",
    "# Actor with the most movies\n",
    "most_movies_actor = max(actors, key=lambda actor: len(actor[1]))\n",
    "most_movies_actor_name = most_movies_actor[0]\n",
    "most_movies_actor_count = len(most_movies_actor[1])\n",
    "print(f\"Actor with the most movies: {most_movies_actor_name} ({most_movies_actor_count} movies)\")\n",
    "\n",
    "# Oldest movie\n",
    "oldest_movie = min(movies, key=lambda movie: movie[2] if movie[2] is not None else float('inf'))\n",
    "oldest_movie_name = oldest_movie[0]\n",
    "oldest_movie_year = oldest_movie[2]\n",
    "print(f\"Oldest movie: {oldest_movie_name} ({oldest_movie_year})\")"
   ]
  },
  {
   "cell_type": "markdown",
   "id": "2a56d009",
   "metadata": {},
   "source": [
    "## Exercise 5: Prepare some functions"
   ]
  },
  {
   "cell_type": "markdown",
   "id": "2756c3f5",
   "metadata": {},
   "source": [
    "Write the following functions\n",
    "- `search_movie(name: str) -> list`: return a list of movies whose name contains `name` (ignoring case). Each movie is described as a dictionary with keys `name`, `year`, and `index` (its position in `movies`)\n",
    "- `get_movie(i: int) -> dict`: returns the a json of the movie at position `i`, with following keys:\n",
    "  - `name` (`str`)\n",
    "  - `year` (`int`)\n",
    "  - `actors` (list of dictionaries with keys `name` and `index`)\n",
    "- `search_actor(name: str) -> list`: return a list of actors whose name contains `name` (ignoring case). Each actor is described as a dictionary with keys `name` and `index` (its position in `actor`)\n",
    "- `get_actor(i: int) -> dict`: returns the a json of the actor at position `i`, with following keys:\n",
    "  - `name` (`str`)\n",
    "  - `movies` (list of dictionaries with keys `name`, `year`, and `index`)"
   ]
  },
  {
   "cell_type": "markdown",
   "id": "106d1b7a",
   "metadata": {},
   "source": [
    "Your answer here."
   ]
  },
  {
   "cell_type": "code",
   "execution_count": 21,
   "id": "37fe3e43",
   "metadata": {
    "ExecuteTime": {
     "end_time": "2024-10-17T19:43:05.233997Z",
     "start_time": "2024-10-17T19:43:05.230641Z"
    }
   },
   "outputs": [],
   "source": [
    "def search_movie(name):\n",
    "    name_lower = name.lower()\n",
    "    return [\n",
    "        {\"name\": movie[0], \"year\": movie[2], \"index\": i}\n",
    "        for i, movie in enumerate(movies)\n",
    "        if name_lower in movie[0].lower()\n",
    "    ]"
   ]
  },
  {
   "cell_type": "code",
   "execution_count": 22,
   "id": "b649b418",
   "metadata": {
    "ExecuteTime": {
     "end_time": "2024-10-17T19:43:05.250391Z",
     "start_time": "2024-10-17T19:43:05.236005Z"
    }
   },
   "outputs": [],
   "source": [
    "def get_movie(i):\n",
    "    movie = movies[i]\n",
    "    return {\n",
    "        \"name\": movie[0],\n",
    "        \"year\": movie[2],\n",
    "        \"actors\": [{\"name\": actors[actor_index][0], \"index\": actor_index} for actor_index in movie[1]]\n",
    "    }\n"
   ]
  },
  {
   "cell_type": "code",
   "execution_count": 23,
   "id": "0caa9a7e",
   "metadata": {
    "ExecuteTime": {
     "end_time": "2024-10-17T19:43:05.263200Z",
     "start_time": "2024-10-17T19:43:05.253400Z"
    }
   },
   "outputs": [],
   "source": [
    "def search_actor(name):\n",
    "    name_lower = name.lower()\n",
    "    return [\n",
    "        {\"name\": actor[0], \"index\": i}\n",
    "        for i, actor in enumerate(actors)\n",
    "        if name_lower in actor[0].lower()\n",
    "    ]\n"
   ]
  },
  {
   "cell_type": "code",
   "execution_count": null,
   "id": "8a0fc883",
   "metadata": {
    "ExecuteTime": {
     "end_time": "2024-10-17T19:43:05.278733Z",
     "start_time": "2024-10-17T19:43:05.267214Z"
    }
   },
   "outputs": [],
   "source": [
    "def get_actor(i):\n",
    "    actor = actors[i]\n",
    "    return {\n",
    "        \"name\": actor[0],\n",
    "        \"movies\": [{\"name\": movies[movie_index][0], \"year\": movies[movie_index][2], \"index\": movie_index} for movie_index in actor[1]]\n",
    "    }"
   ]
  },
  {
   "cell_type": "code",
   "execution_count": 25,
   "id": "d846d30a",
   "metadata": {
    "ExecuteTime": {
     "end_time": "2024-10-17T19:43:05.688562Z",
     "start_time": "2024-10-17T19:43:05.338687Z"
    }
   },
   "outputs": [
    {
     "data": {
      "text/plain": [
       "[{'name': \"Les P'tits Bronzés au Pyrénéen\", 'year': 2013, 'index': 444600}]"
      ]
     },
     "execution_count": 25,
     "metadata": {},
     "output_type": "execute_result"
    }
   ],
   "source": [
    "search_movie('bronzés')"
   ]
  },
  {
   "cell_type": "code",
   "execution_count": 26,
   "id": "a1b4bdb5",
   "metadata": {
    "ExecuteTime": {
     "end_time": "2024-10-17T19:43:05.706974Z",
     "start_time": "2024-10-17T19:43:05.693583Z"
    }
   },
   "outputs": [
    {
     "data": {
      "text/plain": [
       "{'name': 'The Brood',\n",
       " 'year': 1979,\n",
       " 'actors': [{'name': 'Samantha Eggar', 'index': 62916},\n",
       "  {'name': 'Cindy Hinds', 'index': 107141},\n",
       "  {'name': 'Susan Hogan', 'index': 107142},\n",
       "  {'name': 'Gary McKeehan', 'index': 107143},\n",
       "  {'name': 'Michael Magee', 'index': 95335},\n",
       "  {'name': 'Oliver Reed', 'index': 60781},\n",
       "  {'name': 'Nuala Fitzgerald', 'index': 81815},\n",
       "  {'name': 'Robert A. Silverman', 'index': 99479},\n",
       "  {'name': 'Henry Beckman', 'index': 67292},\n",
       "  {'name': 'Art Hindle', 'index': 85303}]}"
      ]
     },
     "execution_count": 26,
     "metadata": {},
     "output_type": "execute_result"
    }
   ],
   "source": [
    "get_movie(55030)"
   ]
  },
  {
   "cell_type": "code",
   "execution_count": 27,
   "id": "5386b177",
   "metadata": {
    "ExecuteTime": {
     "end_time": "2024-10-17T19:43:06.239351Z",
     "start_time": "2024-10-17T19:43:05.712548Z"
    }
   },
   "outputs": [
    {
     "data": {
      "text/plain": [
       "[{'name': 'Daniel Radcliffe', 'index': 277301}]"
      ]
     },
     "execution_count": 27,
     "metadata": {},
     "output_type": "execute_result"
    }
   ],
   "source": [
    "search_actor('Daniel Radcliffe')"
   ]
  },
  {
   "cell_type": "code",
   "execution_count": 28,
   "id": "910c6cc1",
   "metadata": {
    "ExecuteTime": {
     "end_time": "2024-10-17T19:43:06.259338Z",
     "start_time": "2024-10-17T19:43:06.244501Z"
    }
   },
   "outputs": [
    {
     "data": {
      "text/plain": [
       "{'name': 'Brigitte Rabald',\n",
       " 'movies': [{'name': 'Star mit fremden Federn',\n",
       "   'year': 1955,\n",
       "   'index': 122970}]}"
      ]
     },
     "execution_count": 28,
     "metadata": {},
     "output_type": "execute_result"
    }
   ],
   "source": [
    "get_actor(277289)"
   ]
  },
  {
   "cell_type": "markdown",
   "id": "69f7ed05",
   "metadata": {},
   "source": [
    "Write a function `movie_path(origin: int, destination: int) -> distance: int, path: list` that computes the collaboration distance between two actors. That distance is the length of the shortest path `(origin, act1, act2, ..., actX, destination)`, where `origin` and `act` played in the same movie, `act1` and `act2` played in the same movie, ... and\n",
    "`actX` and `destination` played in the same movie.  In addition to the distance, the response should include one shortest path between the two actors, as a list of the form `[\"origin_name\", \"movie1_name\", \"act1_name\", \"movie2_name\", ..., \"destination_name\"]`, where `movie1` is a movie that featured `origin` and `act1`, and so on...\n",
    "\n",
    "In particular:\n",
    "- One actor is by convention at distance 0 from herself. The return path should be `[\"origin_name\"]` then;\n",
    "- Two distinct actors that play in the same movie are at distance 1;\n",
    "- If there is no connection between two actors, the function should return `-1, []` by convention.\n",
    "\n",
    "**Important remarks**: `movie_path` is tricky. You need to try to implement it but you are allowed to fail. If you are stuck for too long, please explain what you did/try and what blocked you in your opinion. Then move on."
   ]
  },
  {
   "cell_type": "markdown",
   "id": "4891e967",
   "metadata": {},
   "source": [
    "Your answer here."
   ]
  },
  {
   "cell_type": "code",
   "execution_count": 29,
   "id": "04493bcb",
   "metadata": {
    "ExecuteTime": {
     "end_time": "2024-10-17T19:43:06.270394Z",
     "start_time": "2024-10-17T19:43:06.264363Z"
    },
    "slideshow": {
     "slide_type": "-"
    }
   },
   "outputs": [],
   "source": [
    "from collections import deque\n",
    "\n",
    "def movie_path(origin, destination):\n",
    "    if origin == destination:\n",
    "        return 0, [actors[origin][0]]\n",
    "    \n",
    "    # BFS initialization\n",
    "    queue = deque([(origin, [origin])])\n",
    "    visited = set([origin])\n",
    "    \n",
    "    while queue:\n",
    "        current_actor, path = queue.popleft()\n",
    "        \n",
    "        for movie_index in actors[current_actor][1]:\n",
    "            for co_actor in movies[movie_index][1]:\n",
    "                if co_actor == destination:\n",
    "                    # Found the destination actor\n",
    "                    full_path = path + [co_actor]\n",
    "                    path_names = [actors[origin][0]]\n",
    "                    for i in range(len(full_path) - 1):\n",
    "                        path_names.append(movies[movies[full_path[i]][1][0]][0])\n",
    "                        path_names.append(actors[full_path[i + 1]][0])\n",
    "                    return len(full_path) - 1, path_names\n",
    "                \n",
    "                if co_actor not in visited:\n",
    "                    visited.add(co_actor)\n",
    "                    queue.append((co_actor, path + [co_actor]))\n",
    "    \n",
    "    return -1, []\n"
   ]
  },
  {
   "cell_type": "code",
   "execution_count": 30,
   "id": "618d8d56",
   "metadata": {
    "ExecuteTime": {
     "end_time": "2024-10-17T19:43:06.881055Z",
     "start_time": "2024-10-17T19:43:06.305024Z"
    }
   },
   "outputs": [
    {
     "data": {
      "text/plain": [
       "[{'name': 'Jean Dujardin', 'index': 329551}]"
      ]
     },
     "execution_count": 30,
     "metadata": {},
     "output_type": "execute_result"
    }
   ],
   "source": [
    "search_actor('jean dujardin')"
   ]
  },
  {
   "cell_type": "code",
   "execution_count": 31,
   "id": "094e4131",
   "metadata": {
    "ExecuteTime": {
     "end_time": "2024-10-17T19:43:07.427983Z",
     "start_time": "2024-10-17T19:43:06.883581Z"
    }
   },
   "outputs": [
    {
     "data": {
      "text/plain": [
       "[{'name': 'Kiefer Sutherland', 'index': 123741}]"
      ]
     },
     "execution_count": 31,
     "metadata": {},
     "output_type": "execute_result"
    }
   ],
   "source": [
    "search_actor('kiefer sutherland')"
   ]
  },
  {
   "cell_type": "code",
   "execution_count": 32,
   "id": "a668c49f",
   "metadata": {
    "ExecuteTime": {
     "end_time": "2024-10-17T19:43:07.793184Z",
     "start_time": "2024-10-17T19:43:07.431005Z"
    }
   },
   "outputs": [
    {
     "data": {
      "text/plain": [
       "[{'name': 'Kevin Bacon', 'index': 105313},\n",
       " {'name': 'Kevin Bacon', 'index': 1141015}]"
      ]
     },
     "execution_count": 32,
     "metadata": {},
     "output_type": "execute_result"
    }
   ],
   "source": [
    "search_actor('kevin bacon')"
   ]
  },
  {
   "cell_type": "code",
   "execution_count": 33,
   "id": "fd4c5a02",
   "metadata": {
    "ExecuteTime": {
     "end_time": "2024-10-17T19:43:08.403011Z",
     "start_time": "2024-10-17T19:43:07.795197Z"
    }
   },
   "outputs": [
    {
     "data": {
      "text/plain": [
       "[{'name': 'Louis de Funès', 'index': 38478}]"
      ]
     },
     "execution_count": 33,
     "metadata": {},
     "output_type": "execute_result"
    }
   ],
   "source": [
    "search_actor('louis de funès')"
   ]
  },
  {
   "cell_type": "code",
   "execution_count": 34,
   "id": "1b84573a",
   "metadata": {
    "ExecuteTime": {
     "end_time": "2024-10-17T19:43:08.411160Z",
     "start_time": "2024-10-17T19:43:08.405410Z"
    }
   },
   "outputs": [
    {
     "data": {
      "text/plain": [
       "(0, ['Mark Metcalf'])"
      ]
     },
     "execution_count": 34,
     "metadata": {},
     "output_type": "execute_result"
    }
   ],
   "source": [
    "movie_path(105311, 105311)"
   ]
  },
  {
   "cell_type": "code",
   "execution_count": 35,
   "id": "803e62b6",
   "metadata": {
    "ExecuteTime": {
     "end_time": "2024-10-17T19:43:08.449073Z",
     "start_time": "2024-10-17T19:43:08.414171Z"
    }
   },
   "outputs": [
    {
     "data": {
      "text/plain": [
       "(3,\n",
       " ['Mark Metcalf',\n",
       "  'Island Bruthas',\n",
       "  'C. Thomas Howell',\n",
       "  'A Gnome Named Gnorm',\n",
       "  'Ann-Margret',\n",
       "  \"Summer of '69\",\n",
       "  'Gisele Bündchen'])"
      ]
     },
     "execution_count": 35,
     "metadata": {},
     "output_type": "execute_result"
    }
   ],
   "source": [
    "movie_path(105311, 329504)"
   ]
  },
  {
   "cell_type": "code",
   "execution_count": 36,
   "id": "75aeb408",
   "metadata": {
    "ExecuteTime": {
     "end_time": "2024-10-17T19:43:08.879702Z",
     "start_time": "2024-10-17T19:43:08.453082Z"
    }
   },
   "outputs": [
    {
     "data": {
      "text/plain": [
       "(5,\n",
       " ['Carole Donne',\n",
       "  'Lovers and Thieves',\n",
       "  'Thurston Hall',\n",
       "  'The Luring Lights',\n",
       "  'Rosalind Russell',\n",
       "  'Badaranii',\n",
       "  'Maximilian Schell',\n",
       "  'Underground',\n",
       "  'Iva Janzurová',\n",
       "  'The Day It Rained',\n",
       "  'Karel Kopecký'])"
      ]
     },
     "execution_count": 36,
     "metadata": {},
     "output_type": "execute_result"
    }
   ],
   "source": [
    "movie_path(38476, 123737)"
   ]
  },
  {
   "cell_type": "code",
   "execution_count": 37,
   "id": "648f605d",
   "metadata": {
    "ExecuteTime": {
     "end_time": "2024-10-17T19:43:09.104561Z",
     "start_time": "2024-10-17T19:43:08.881726Z"
    }
   },
   "outputs": [
    {
     "data": {
      "text/plain": [
       "[{'name': 'The Gendarme of Saint-Tropez', 'year': 1964, 'index': 41002},\n",
       " {'name': 'The Gendarme in New York', 'year': 1965, 'index': 42673},\n",
       " {'name': 'The Gendarme Gets Married', 'year': 1968, 'index': 44455},\n",
       " {'name': 'The Gendarme Takes Off', 'year': 1970, 'index': 46402},\n",
       " {'name': 'The Gendarme and the Extra-Terrestrials',\n",
       "  'year': 1979,\n",
       "  'index': 55242},\n",
       " {'name': 'The Gendarme and the Gendarmettes', 'year': 1982, 'index': 58335},\n",
       " {'name': 'The Gendarme of Champignol', 'year': 1959, 'index': 92829},\n",
       " {'name': 'El gendarme de la esquina', 'year': 1951, 'index': 116184},\n",
       " {'name': 'Sacrés gendarmes', 'year': 1980, 'index': 120027},\n",
       " {'name': \"Hainburg - Je t'aime, gendarme\", 'year': 2001, 'index': 145903},\n",
       " {'name': 'Le gendarme de Abobo', 'year': 2019, 'index': 319652}]"
      ]
     },
     "execution_count": 37,
     "metadata": {},
     "output_type": "execute_result"
    }
   ],
   "source": [
    "search_movie('gendarme')"
   ]
  },
  {
   "cell_type": "markdown",
   "id": "8dc481ff",
   "metadata": {
    "id": "8dc481ff"
   },
   "source": [
    "## Exercise 6. Provide a Web API"
   ]
  },
  {
   "cell_type": "markdown",
   "id": "e4781467-74ea-4954-acfc-6766d46a1997",
   "metadata": {
    "id": "e4781467-74ea-4954-acfc-6766d46a1997"
   },
   "source": [
    "Using Python and the Bottle package, build a web server that implements the following API:\n",
    "- `/movies/{id}` : where `id` is the index of a movie, returns the corresponding movie as a json (cf `get_movie`).\n",
    "- `/movies` : returns by default the first 100 movies. The value 100 can be modified by sending a URL parameter `limit`.\n",
    "- `/actors/{id}` : where `id` is the index of an author, returns the json of the actor (cf `get_actor`).\n",
    "- `/actors` : returns by default the first 100 actors. The value 100 can be modified by sending a URL parameter `limit`.\n",
    "- `/actors/{id}/costars` : returns the co-stars of one actor (actors that play in a same movie).\n",
    "- `/search/actors/{searchString}` : where `searchString` is a string to lookup one actor. This route should return the actors whose name contains `searchString` (for example, `/search/actors/w` returns the actors whose name contains `w` or `W`).\n",
    "- `/search/movies/{searchString}`: where `searchString` is a string, returns the list of movies whose title contains `searchString`. The route should accept a URL parameter `filter` formatted like `key1:value1,key2:value2,...`  to restrain the search to the publications where key `keyi` contains `valuei`. For example, `/search/movies/gendarme?filter=year:1964`\n",
    "should return the list of movies where the title contains `gendarme` published in 1964.\n",
    "- `/actors/{id_origin}/distance/{id_destination}` : where `id_origin`\n",
    "and `id_destination` are two actor indices, returns the collaboration distance between the two actors. In addition to the distance, the response should include one shortest path between the two actors, e.g. the json you return should be a list of two elements, one integer and one list."
   ]
  },
  {
   "cell_type": "markdown",
   "id": "ba559bad-da30-4081-adb1-996022a82d69",
   "metadata": {
    "id": "ba559bad-da30-4081-adb1-996022a82d69"
   },
   "source": [
    "The developed API should have the following characteristics:\n",
    "\n",
    "- All errors should have the same format.\n",
    "- In absence of error, the API should always return a `json`.\n",
    "- Each route must be documented with the return format, possible errors, and an explanation of parameters.\n",
    "- Each route that returns a list should return a maximum of 100 elements and should accept URL parameters `start` and `limit` to display `limit` elements starting from the `start`-th element. For example: `/actors` should return the first 100 authors, `/actors?start=100` displays the next 100, and `/actors?start=200&limit=2` displays the next 2 elements.\n",
    "- For each route that returns a list, the returned elements should be sortable based on a given field using a URL parameter `order`. For example: `/movies?order=year` displays the first 100 movies sorted by year."
   ]
  },
  {
   "cell_type": "markdown",
   "id": "00c20fcd",
   "metadata": {},
   "source": [
    "Your answer here."
   ]
  },
  {
   "cell_type": "code",
   "execution_count": 44,
   "id": "839c43e0",
   "metadata": {},
   "outputs": [
    {
     "name": "stderr",
     "output_type": "stream",
     "text": [
      "Bottle v0.12.25 server starting up (using WSGIRefServer())...\n",
      "Listening on http://localhost:8080/\n",
      "Hit Ctrl-C to quit.\n",
      "\n"
     ]
    }
   ],
   "source": [
    "from bottle import Bottle, run, request, response\n",
    "import json\n",
    "\n",
    "app = Bottle()\n",
    "\n",
    "def json_response(data, status=200):\n",
    "    response.content_type = 'application/json'\n",
    "    response.status = status\n",
    "    return json.dumps(data)\n",
    "\n",
    "@app.route('/movies/<id:int>')\n",
    "def get_movie_route(id):\n",
    "    try:\n",
    "        movie = get_movie(id)\n",
    "        return json_response(movie)\n",
    "    except IndexError:\n",
    "        return json_response({\"error\": \"Movie not found\"}, status=404)\n",
    "\n",
    "@app.route('/movies')\n",
    "def list_movies():\n",
    "    try:\n",
    "        start = int(request.query.start or 0)\n",
    "        limit = int(request.query.limit or 100)\n",
    "        order = request.query.order or None\n",
    "        sorted_movies = sorted(movies, key=lambda x: x[2] if order == 'year' else x[0])\n",
    "        return json_response(sorted_movies[start:start+limit])\n",
    "    except Exception as e:\n",
    "        return json_response({\"error\": str(e)}, status=400)\n",
    "\n",
    "@app.route('/actors/<id:int>')\n",
    "def get_actor_route(id):\n",
    "    try:\n",
    "        actor = get_actor(id)\n",
    "        return json_response(actor)\n",
    "    except IndexError:\n",
    "        return json_response({\"error\": \"Actor not found\"}, status=404)\n",
    "\n",
    "@app.route('/actors')\n",
    "def list_actors():\n",
    "    try:\n",
    "        start = int(request.query.start or 0)\n",
    "        limit = int(request.query.limit or 100)\n",
    "        order = request.query.order or None\n",
    "        sorted_actors = sorted(actors, key=lambda x: x[0])\n",
    "        return json_response(sorted_actors[start:start+limit])\n",
    "    except Exception as e:\n",
    "        return json_response({\"error\": str(e)}, status=400)\n",
    "\n",
    "@app.route('/actors/<id:int>/costars')\n",
    "def get_costars(id):\n",
    "    try:\n",
    "        actor = actors[id]\n",
    "        costars = set()\n",
    "        for movie_index in actor[1]:\n",
    "            for co_actor in movies[movie_index][1]:\n",
    "                if co_actor != id:\n",
    "                    costars.add(co_actor)\n",
    "        costar_list = [{\"name\": actors[co_actor][0], \"index\": co_actor} for co_actor in costars]\n",
    "        return json_response(costar_list)\n",
    "    except IndexError:\n",
    "        return json_response({\"error\": \"Actor not found\"}, status=404)\n",
    "\n",
    "@app.route('/search/actors/<searchString>')\n",
    "def search_actors_route(searchString):\n",
    "    try:\n",
    "        result = search_actor(searchString)\n",
    "        return json_response(result)\n",
    "    except Exception as e:\n",
    "        return json_response({\"error\": str(e)}, status=400)\n",
    "\n",
    "@app.route('/search/movies/<searchString>')\n",
    "def search_movies_route(searchString):\n",
    "    try:\n",
    "        filter_params = request.query.filter or None\n",
    "        filters = {}\n",
    "        if filter_params:\n",
    "            for param in filter_params.split(','):\n",
    "                key, value = param.split(':')\n",
    "                filters[key] = value\n",
    "        result = search_movie(searchString)\n",
    "        if filters:\n",
    "            result = [movie for movie in result if all(str(movie.get(k)) == v for k, v in filters.items())]\n",
    "        return json_response(result)\n",
    "    except Exception as e:\n",
    "        return json_response({\"error\": str(e)}, status=400)\n",
    "\n",
    "@app.route('/actors/<id_origin:int>/distance/<id_destination:int>')\n",
    "def get_distance(id_origin, id_destination):\n",
    "    try:\n",
    "        distance, path = movie_path(id_origin, id_destination)\n",
    "        return json_response({\"distance\": distance, \"path\": path})\n",
    "    except Exception as e:\n",
    "        return json_response({\"error\": str(e)}, status=400)\n",
    "\n",
    "if __name__ == '__main__':\n",
    "    run(app, host='localhost', port=8080)"
   ]
  },
  {
   "cell_type": "markdown",
   "id": "e1e29ad3",
   "metadata": {
    "id": "e1e29ad3"
   },
   "source": [
    "## Exercise 7. Test a Web API"
   ]
  },
  {
   "cell_type": "markdown",
   "id": "a7110e2c",
   "metadata": {
    "id": "a7110e2c"
   },
   "source": [
    "Using `pytest`, write a program that checks that the API made in the previous exercise works as expected."
   ]
  },
  {
   "cell_type": "code",
   "execution_count": 45,
   "id": "2ad6176f",
   "metadata": {},
   "outputs": [],
   "source": [
    "\n",
    "import pytest\n",
    "from bottle import Bottle, request, response\n",
    "from bottle import LocalRequest, LocalResponse\n",
    "from bottle import HTTPError\n",
    "import json\n",
    "from app import app\n",
    "\n",
    "# Assuming the app is defined in a file named `app.py`\n",
    "\n",
    "@pytest.fixture\n",
    "def client():\n",
    "    return app\n",
    "\n",
    "def test_get_movie(client):\n",
    "    response = client.get('/movies/0')\n",
    "    assert response.status_code == 200\n",
    "    data = response.json\n",
    "    assert data['name'] == 'Miss Jerry'\n",
    "    assert data['year'] == 1894\n",
    "\n",
    "def test_get_movie_not_found(client):\n",
    "    response = client.get('/movies/999999')\n",
    "    assert response.status_code == 404\n",
    "    data = response.json\n",
    "    assert data['error'] == 'Movie not found'\n",
    "\n",
    "def test_list_movies(client):\n",
    "    response = client.get('/movies')\n",
    "    assert response.status_code == 200\n",
    "    data = response.json\n",
    "    assert len(data) <= 100\n",
    "\n",
    "def test_get_actor(client):\n",
    "    response = client.get('/actors/0')\n",
    "    assert response.status_code == 200\n",
    "    data = response.json\n",
    "    assert data['name'] == 'Blanche Bayliss'\n",
    "\n",
    "def test_get_actor_not_found(client):\n",
    "    response = client.get('/actors/999999')\n",
    "    assert response.status_code == 404\n",
    "    data = response.json\n",
    "    assert data['error'] == 'Actor not found'\n",
    "\n",
    "def test_list_actors(client):\n",
    "    response = client.get('/actors')\n",
    "    assert response.status_code == 200\n",
    "    data = response.json\n",
    "    assert len(data) <= 100\n",
    "\n",
    "def test_get_costars(client):\n",
    "    response = client.get('/actors/0/costars')\n",
    "    assert response.status_code == 200\n",
    "    data = response.json\n",
    "    assert isinstance(data, list)\n",
    "\n",
    "def test_search_actors(client):\n",
    "    response = client.get('/search/actors/blanche')\n",
    "    assert response.status_code == 200\n",
    "    data = response.json\n",
    "    assert any('Blanche Bayliss' in actor['name'] for actor in data)\n",
    "\n",
    "def test_search_movies(client):\n",
    "    response = client.get('/search/movies/jerry')\n",
    "    assert response.status_code == 200\n",
    "    data = response.json\n",
    "    assert any('Miss Jerry' in movie['name'] for movie in data)\n",
    "\n",
    "def test_get_distance(client):\n",
    "    response = client.get('/actors/0/distance/1')\n",
    "    assert response.status_code == 200\n",
    "    data = response.json\n",
    "    assert 'distance' in data\n",
    "    assert 'path' in data"
   ]
  },
  {
   "cell_type": "markdown",
   "id": "252f540d",
   "metadata": {},
   "source": [
    "Your answer here."
   ]
  },
  {
   "cell_type": "markdown",
   "id": "2aa006cb",
   "metadata": {
    "id": "2aa006cb"
   },
   "source": [
    "## Exercise 8. Make a Website that uses the Web API"
   ]
  },
  {
   "cell_type": "markdown",
   "id": "2243ef46",
   "metadata": {
    "id": "2243ef46"
   },
   "source": [
    "Create a Python web server using the Bottle library that utilizes the Web API you developed to offer the user a graphical Web interface. This interface allows the user to obtain, by entering relevant information into a Web form:\n",
    "\n",
    "- The complete list of movies and the complete list of costars of an actor, possibly sorted alphabetically. This actor can be searched beforehand using a substring of characters appearing in her name.\n",
    "- The colloration distance between two actors. As above, the actors can be searched beforehand using a substring of characters appearing in their names. Try to format a bit (not too much). For example:\n",
    "  - The collaboration distance between Kevin Bacon and Jean Dujardin is 2.\n",
    "  - Kevin bacon played in Wild things with Bill Murray;\n",
    "  - Bill Murray played in The Monuments Men with Jean Dujardin."
   ]
  },
  {
   "cell_type": "markdown",
   "id": "6a761576",
   "metadata": {},
   "source": [
    "Your answer here."
   ]
  },
  {
   "cell_type": "code",
   "execution_count": 48,
   "id": "edc1b145",
   "metadata": {},
   "outputs": [
    {
     "name": "stderr",
     "output_type": "stream",
     "text": [
      "Bottle v0.12.25 server starting up (using WSGIRefServer())...\n",
      "Listening on http://localhost:8080/\n",
      "Hit Ctrl-C to quit.\n",
      "\n"
     ]
    }
   ],
   "source": [
    "from bottle import Bottle, run, request, template, static_file\n",
    "import json\n",
    "from collections import deque\n",
    "\n",
    "app = Bottle()\n",
    "\n",
    "# Load the movies and actors data\n",
    "with gzip.open('movies.json.gz', 'rt', encoding='utf8') as f:\n",
    "    movies = json.load(f)\n",
    "with gzip.open('actors.json.gz', 'rt', encoding='utf8') as f:\n",
    "    actors = json.load(f) \n",
    "@app.route('/')\n",
    "def index():\n",
    "    return template('index')\n",
    "\n",
    "@app.route('/search_actor', method='POST')\n",
    "def search_actor():\n",
    "    search_string = request.forms.get('search_string')\n",
    "    result = [actor for actor in actors if search_string.lower() in actor[0].lower()]\n",
    "    return template('search_actor', actors=result, search_string=search_string)\n",
    "\n",
    "@app.route('/actor/<actor_id:int>')\n",
    "def actor_details(actor_id):\n",
    "    actor = actors[actor_id]\n",
    "    actor_movies = [movies[movie_id] for movie_id in actor[1]]\n",
    "    costars = set()\n",
    "    for movie_id in actor[1]:\n",
    "        for co_actor_id in movies[movie_id][1]:\n",
    "            if co_actor_id != actor_id:\n",
    "                costars.add(co_actor_id)\n",
    "    costar_list = [actors[co_actor_id] for co_actor_id in costars]\n",
    "    return template('actor_details', actor=actor, movies=actor_movies, costars=costar_list)\n",
    "\n",
    "@app.route('/collaboration_distance', method='POST')\n",
    "def collaboration_distance():\n",
    "    actor1_id = int(request.forms.get('actor1_id'))\n",
    "    actor2_id = int(request.forms.get('actor2_id'))\n",
    "    distance, path = movie_path(actor1_id, actor2_id)\n",
    "    return template('collaboration_distance', distance=distance, path=path)\n",
    "\n",
    "@app.route('/static/<filename>')\n",
    "def server_static(filename):\n",
    "    return static_file(filename, root='./static')\n",
    "\n",
    "def movie_path(origin, destination):\n",
    "\n",
    "    if origin == destination:\n",
    "        return 0, [actors[origin][0]]\n",
    "\n",
    "    queue = deque([(origin, [origin])])\n",
    "    visited = set([origin])\n",
    "\n",
    "    while queue:\n",
    "        current_actor, path = queue.popleft()\n",
    "\n",
    "        for movie_index in actors[current_actor][1]:\n",
    "            for co_actor in movies[movie_index][1]:\n",
    "                if co_actor == destination:\n",
    "                    full_path = path + [co_actor]\n",
    "                    path_names = [actors[origin][0]]\n",
    "                    for i in range(len(full_path) - 1):\n",
    "                        path_names.append(movies[movies[full_path[i]][1][0]][0])\n",
    "                        path_names.append(actors[full_path[i + 1]][0])\n",
    "                    return len(full_path) - 1, path_names\n",
    "\n",
    "                if co_actor not in visited:\n",
    "                    visited.add(co_actor)\n",
    "                    queue.append((co_actor, path + [co_actor]))\n",
    "\n",
    "    return -1, []\n",
    "\n",
    "if __name__ == '__main__':\n",
    "    run(app, host='localhost', port=8080)"
   ]
  }
 ],
 "metadata": {
  "celltoolbar": "Slideshow",
  "colab": {
   "provenance": []
  },
  "kernelspec": {
   "display_name": "Python 3",
   "language": "python",
   "name": "python3"
  },
  "language_info": {
   "codemirror_mode": {
    "name": "ipython",
    "version": 3
   },
   "file_extension": ".py",
   "mimetype": "text/x-python",
   "name": "python",
   "nbconvert_exporter": "python",
   "pygments_lexer": "ipython3",
   "version": "3.10.4"
  },
  "toc": {
   "base_numbering": 1,
   "nav_menu": {},
   "number_sections": true,
   "sideBar": true,
   "skip_h1_title": true,
   "title_cell": "Table of Contents",
   "title_sidebar": "Contents",
   "toc_cell": false,
   "toc_position": {},
   "toc_section_display": true,
   "toc_window_display": false
  }
 },
 "nbformat": 4,
 "nbformat_minor": 5
}
